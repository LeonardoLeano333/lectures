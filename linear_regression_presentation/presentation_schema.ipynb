{
 "cells": [
  {
   "cell_type": "markdown",
   "metadata": {},
   "source": [
    "# Linear Regression"
   ]
  },
  {
   "cell_type": "markdown",
   "metadata": {},
   "source": [
    "- Schema:\n",
    "    - Data Formats\n",
    "    - Data Treatment Tecnologies\n",
    "    - Simple Linear Regression Model\n",
    "    - Pratical Examples\n",
    "    - Business Importance\n",
    "    - Conclusões"
   ]
  },
  {
   "cell_type": "markdown",
   "metadata": {},
   "source": [
    "references:\n",
    "\n",
    "LSM: https://en.wikipedia.org/wiki/Least_squares\n",
    "\n",
    "OLS: https://scikit-learn.org/stable/modules/linear_model.html"
   ]
  },
  {
   "cell_type": "markdown",
   "metadata": {},
   "source": [
    "## Data Formats"
   ]
  },
  {
   "cell_type": "markdown",
   "metadata": {},
   "source": [
    "Tree of most commons format a data can be provided are:\n",
    "  - text(.txt)\n",
    "  - Comma-separated values(.csv)\n",
    "  - ExcelFile (.xlsx)"
   ]
  },
  {
   "cell_type": "markdown",
   "metadata": {},
   "source": [
    "TXT - Is a raw text with only characters, It can be trick to treat this kind of data without notion of data separation, but it is the lightest, between this tree kinds of formats.\n",
    "\n",
    "CSV - Is a raw text separed with commas, or other kind of separator like colon or semicolons. It is easy to treat this kind of data, but it is hard to add metadata. It is light as TXT.\n",
    "\n",
    "ExcelFile - It is a binary file with sheets, It can be trick to treat this with program language beacause it can have a alot of patterns or have no pattern at all, Metadata can be include easily. It is recomended not to you this kind of data if have the data well structured and have no Metadata to be treat. \n",
    "\n",
    "In summary, in most of cases it is better to use one or more csv's instead of ExcelFile, one with the raw data, and other with Metadata separately.\n"
   ]
  },
  {
   "cell_type": "markdown",
   "metadata": {},
   "source": [
    "## Data Treatment Technologies"
   ]
  },
  {
   "cell_type": "markdown",
   "metadata": {},
   "source": [
    "- Excel \n",
    "    - advantage\n",
    "        - is User friendly\n",
    "        - there is no need for programing skills\n",
    "        - it is wide applied at data analisis\n",
    "    - drawbacks\n",
    "        - It is not scaleble\n",
    "- Python \n",
    "    - advantage\n",
    "        - the data treatment is faster(in a programing process way)\n",
    "        - It is wide used at DataScience and Machine Learning implementations\n",
    "        - It is scalable\n",
    "        - and other infity trics you can make\n",
    "    - drawbacks\n",
    "        - Demand a programing knowhow"
   ]
  },
  {
   "cell_type": "markdown",
   "metadata": {},
   "source": [
    "In both ways it is good to know both, or for the better know alot of tools to treat the data.\n",
    "\n",
    "More you learn, more you get harder, better, fast, strong into data analysis."
   ]
  },
  {
   "cell_type": "markdown",
   "metadata": {},
   "source": [
    "## Simple Linear Regression Model"
   ]
  },
  {
   "cell_type": "markdown",
   "metadata": {},
   "source": [
    "This is a linear model wich is largely use as first aproach to get some information from the data"
   ]
  },
  {
   "cell_type": "markdown",
   "metadata": {},
   "source": [
    "$$ f(x) = a*x+b\n",
    "$$"
   ]
  },
  {
   "cell_type": "markdown",
   "metadata": {},
   "source": [
    "### Solver - Least Square Method"
   ]
  },
  {
   "cell_type": "markdown",
   "metadata": {},
   "source": [
    "The most common solver for fit the parameter is the Least Square Method (LSM-Método dos Mínimos Quadrados), which has the main objective to minimize the distances between the model ( $f(x)$ ) and data ( $y$ ). "
   ]
  },
  {
   "cell_type": "markdown",
   "metadata": {},
   "source": [
    "$$\\chi^2 = \\sum_{i=1}^n (y_i - f(x_i))^2$$"
   ]
  },
  {
   "cell_type": "markdown",
   "metadata": {},
   "source": [
    "ref: https://en.wikipedia.org/wiki/Least_squares"
   ]
  },
  {
   "cell_type": "markdown",
   "metadata": {},
   "source": [
    "This method returns a parameter estimative and statiscal properties if you solve it with Gauss-Method and get this kind of information by covariance matrix"
   ]
  },
  {
   "cell_type": "markdown",
   "metadata": {},
   "source": [
    "### Getting Information from the model"
   ]
  },
  {
   "cell_type": "markdown",
   "metadata": {},
   "source": [
    "### This method can provide:\n"
   ]
  },
  {
   "cell_type": "markdown",
   "metadata": {},
   "source": [
    "- Fitted parameters\n",
    "- Statistical properties as standard deviations\n",
    "- A better understanding of data behaviour\n",
    "- It can provide prediction in some cases"
   ]
  },
  {
   "cell_type": "markdown",
   "metadata": {},
   "source": [
    "### Model Limitations"
   ]
  },
  {
   "cell_type": "markdown",
   "metadata": {},
   "source": [
    "- It is hard to say or assert with 100% of assurance that the data behaves like a line as the model says\n",
    "- It is needed to the scientist to have a know how and experience with the data to assert the behaviour and get rich and plausible information from the model and data.\n",
    "- There is a lot of others models which can feet equally or good. \n",
    "- Cost (N_par x N_data)^2 matrix transformation"
   ]
  },
  {
   "cell_type": "markdown",
   "metadata": {},
   "source": [
    "### Expansion of this method for Machine Learn Model"
   ]
  },
  {
   "cell_type": "markdown",
   "metadata": {},
   "source": [
    "A expansion from this simple model is a generalized linear model"
   ]
  },
  {
   "cell_type": "markdown",
   "metadata": {},
   "source": [
    "$$f(w,x)= w_0 + w_1 x_1 + w_2 x_2 + w_3 x_3 + ...$$"
   ]
  },
  {
   "cell_type": "markdown",
   "metadata": {},
   "source": [
    "The solver is the same as the simple case (LSM), with other name Ordinary Least Square (OLS)\n",
    "\n",
    "ref: https://scikit-learn.org/stable/modules/linear_model.html"
   ]
  },
  {
   "cell_type": "markdown",
   "metadata": {},
   "source": [
    "## Pratical Examples"
   ]
  },
  {
   "cell_type": "markdown",
   "metadata": {},
   "source": [
    "libraries importations"
   ]
  },
  {
   "cell_type": "code",
   "execution_count": 1,
   "metadata": {},
   "outputs": [],
   "source": [
    "import matplotlib.pyplot as plt\n",
    "import numpy as np\n",
    "import pandas as pd\n",
    "import statsmodels.api as sm"
   ]
  },
  {
   "cell_type": "markdown",
   "metadata": {},
   "source": [
    "### - Doguinhos"
   ]
  },
  {
   "cell_type": "code",
   "execution_count": 2,
   "metadata": {
    "scrolled": true
   },
   "outputs": [
    {
     "data": {
      "text/html": [
       "<div>\n",
       "<style scoped>\n",
       "    .dataframe tbody tr th:only-of-type {\n",
       "        vertical-align: middle;\n",
       "    }\n",
       "\n",
       "    .dataframe tbody tr th {\n",
       "        vertical-align: top;\n",
       "    }\n",
       "\n",
       "    .dataframe thead th {\n",
       "        text-align: right;\n",
       "    }\n",
       "</style>\n",
       "<table border=\"1\" class=\"dataframe\">\n",
       "  <thead>\n",
       "    <tr style=\"text-align: right;\">\n",
       "      <th></th>\n",
       "      <th>mvo</th>\n",
       "      <th>lvp</th>\n",
       "    </tr>\n",
       "  </thead>\n",
       "  <tbody>\n",
       "    <tr>\n",
       "      <td>1</td>\n",
       "      <td>78</td>\n",
       "      <td>32</td>\n",
       "    </tr>\n",
       "    <tr>\n",
       "      <td>2</td>\n",
       "      <td>92</td>\n",
       "      <td>33</td>\n",
       "    </tr>\n",
       "    <tr>\n",
       "      <td>3</td>\n",
       "      <td>116</td>\n",
       "      <td>45</td>\n",
       "    </tr>\n",
       "    <tr>\n",
       "      <td>4</td>\n",
       "      <td>90</td>\n",
       "      <td>30</td>\n",
       "    </tr>\n",
       "    <tr>\n",
       "      <td>5</td>\n",
       "      <td>106</td>\n",
       "      <td>38</td>\n",
       "    </tr>\n",
       "    <tr>\n",
       "      <td>6</td>\n",
       "      <td>78</td>\n",
       "      <td>24</td>\n",
       "    </tr>\n",
       "    <tr>\n",
       "      <td>7</td>\n",
       "      <td>99</td>\n",
       "      <td>44</td>\n",
       "    </tr>\n",
       "  </tbody>\n",
       "</table>\n",
       "</div>"
      ],
      "text/plain": [
       "   mvo  lvp\n",
       "1   78   32\n",
       "2   92   33\n",
       "3  116   45\n",
       "4   90   30\n",
       "5  106   38\n",
       "6   78   24\n",
       "7   99   44"
      ]
     },
     "execution_count": 2,
     "metadata": {},
     "output_type": "execute_result"
    }
   ],
   "source": [
    "df = pd.read_csv(\"data/cardio_dogs/dogs.csv\",index_col=0)\n",
    "df"
   ]
  },
  {
   "cell_type": "code",
   "execution_count": 3,
   "metadata": {},
   "outputs": [],
   "source": [
    "#ploting raw data\n",
    "df = pd.read_csv(\"data/cardio_dogs/dogs.csv\",index_col=0)\n",
    "x = df[\"mvo\"]\n",
    "y = df[\"lvp\"]\n",
    "\n",
    "# training model\n",
    "import statsmodels.api as sm\n",
    "mod_ols = sm.OLS(y,np.array([x,np.ones(len(x))]).T)\n",
    "res_ols = mod_ols.fit()"
   ]
  },
  {
   "cell_type": "code",
   "execution_count": 4,
   "metadata": {},
   "outputs": [
    {
     "data": {
      "image/png": "[encoded data removed]",
      "text/plain": [
       "<Figure size 1080x720 with 1 Axes>"
      ]
     },
     "metadata": {
      "needs_background": "light"
     },
     "output_type": "display_data"
    }
   ],
   "source": [
    "#ploting raw data\n",
    "df = pd.read_csv(\"data/cardio_dogs/dogs.csv\",index_col=0)\n",
    "fig = plt.figure(figsize=(15,10))\n",
    "x = df[\"mvo\"]\n",
    "y = df[\"lvp\"]\n",
    "plt.plot(x,y,marker='o',linestyle=' ',color='b',label='Doginhos')\n",
    "\n",
    "# training model\n",
    "import statsmodels.api as sm\n",
    "mod_ols = sm.OLS(y,np.array([x,np.ones(len(x))]).T)\n",
    "res_ols = mod_ols.fit()\n",
    "# plot the fit\n",
    "x_line = np.arange(min(x)-1,max(x)+1) \n",
    "plt.plot(x_line,res_ols.params[0]*x_line+res_ols.params[1],color ='r', label= 'fit')\n",
    "\n",
    "# labels\n",
    "plt.title('Doguinhos Data',fontsize=30)\n",
    "plt.ylabel('Cardiac Oxygen Consumption',fontsize=30)\n",
    "plt.xlabel('Left Ventricular Pressure',fontsize=30)\n",
    "plt.yticks(fontsize=20)\n",
    "plt.xticks(fontsize=20)\n",
    "plt.legend(fontsize=20)\n",
    "plt.show()"
   ]
  },
  {
   "cell_type": "code",
   "execution_count": 5,
   "metadata": {},
   "outputs": [
    {
     "name": "stdout",
     "output_type": "stream",
     "text": [
      "                            OLS Regression Results                            \n",
      "==============================================================================\n",
      "Dep. Variable:                    lvp   R-squared:                       0.729\n",
      "Model:                            OLS   Adj. R-squared:                  0.675\n",
      "Method:                 Least Squares   F-statistic:                     13.44\n",
      "Date:                Sun, 02 Feb 2020   Prob (F-statistic):             0.0145\n",
      "Time:                        17:03:18   Log-Likelihood:                -19.046\n",
      "No. Observations:                   7   AIC:                             42.09\n",
      "Df Residuals:                       5   BIC:                             41.98\n",
      "Df Model:                           1                                         \n",
      "Covariance Type:            nonrobust                                         \n",
      "==============================================================================\n",
      "                 coef    std err          t      P>|t|      [0.025      0.975]\n",
      "------------------------------------------------------------------------------\n",
      "x1             0.4632      0.126      3.666      0.015       0.138       0.788\n",
      "const         -8.4666     12.010     -0.705      0.512     -39.340      22.407\n",
      "==============================================================================\n",
      "Omnibus:                          nan   Durbin-Watson:                   1.549\n",
      "Prob(Omnibus):                    nan   Jarque-Bera (JB):                0.963\n",
      "Skew:                           0.769   Prob(JB):                        0.618\n",
      "Kurtosis:                       2.031   Cond. No.                         694.\n",
      "==============================================================================\n",
      "\n",
      "Warnings:\n",
      "[1] Standard Errors assume that the covariance matrix of the errors is correctly specified.\n"
     ]
    },
    {
     "name": "stderr",
     "output_type": "stream",
     "text": [
      "c:\\users\\dell\\desktop\\python_projects\\lectures\\lectures\\linear_regression_presentation\\venv\\lib\\site-packages\\statsmodels\\stats\\stattools.py:71: ValueWarning: omni_normtest is not valid with less than 8 observations; 7 samples were given.\n",
      "  \"samples were given.\" % int(n), ValueWarning)\n"
     ]
    }
   ],
   "source": [
    "# printing the model results\n",
    "print(res_ols.summary())"
   ]
  },
  {
   "cell_type": "code",
   "execution_count": 6,
   "metadata": {},
   "outputs": [
    {
     "data": {
      "text/plain": [
       "12.010208109730256"
      ]
     },
     "execution_count": 6,
     "metadata": {},
     "output_type": "execute_result"
    }
   ],
   "source": [
    "np.sqrt(res_ols.cov_params()['const']['const'])"
   ]
  },
  {
   "cell_type": "markdown",
   "metadata": {},
   "source": [
    "### - Oysters"
   ]
  },
  {
   "cell_type": "code",
   "execution_count": 7,
   "metadata": {},
   "outputs": [],
   "source": [
    "import pandas as pd\n",
    "df = pd.read_csv(\"data/oyster_size/Oysters.csv\",index_col=0)"
   ]
  },
  {
   "cell_type": "code",
   "execution_count": 8,
   "metadata": {},
   "outputs": [
    {
     "data": {
      "text/html": [
       "<div>\n",
       "<style scoped>\n",
       "    .dataframe tbody tr th:only-of-type {\n",
       "        vertical-align: middle;\n",
       "    }\n",
       "\n",
       "    .dataframe tbody tr th {\n",
       "        vertical-align: top;\n",
       "    }\n",
       "\n",
       "    .dataframe thead th {\n",
       "        text-align: right;\n",
       "    }\n",
       "</style>\n",
       "<table border=\"1\" class=\"dataframe\">\n",
       "  <thead>\n",
       "    <tr style=\"text-align: right;\">\n",
       "      <th></th>\n",
       "      <th>ID</th>\n",
       "      <th>Weight</th>\n",
       "      <th>Volume</th>\n",
       "      <th>ThreeD</th>\n",
       "      <th>TwoD</th>\n",
       "    </tr>\n",
       "  </thead>\n",
       "  <tbody>\n",
       "    <tr>\n",
       "      <td>1</td>\n",
       "      <td>1</td>\n",
       "      <td>12.92</td>\n",
       "      <td>13.04</td>\n",
       "      <td>5136699</td>\n",
       "      <td>47907</td>\n",
       "    </tr>\n",
       "    <tr>\n",
       "      <td>2</td>\n",
       "      <td>2</td>\n",
       "      <td>11.40</td>\n",
       "      <td>11.71</td>\n",
       "      <td>4795151</td>\n",
       "      <td>41458</td>\n",
       "    </tr>\n",
       "    <tr>\n",
       "      <td>3</td>\n",
       "      <td>3</td>\n",
       "      <td>17.42</td>\n",
       "      <td>17.42</td>\n",
       "      <td>6453115</td>\n",
       "      <td>60891</td>\n",
       "    </tr>\n",
       "    <tr>\n",
       "      <td>4</td>\n",
       "      <td>4</td>\n",
       "      <td>6.79</td>\n",
       "      <td>7.23</td>\n",
       "      <td>2895239</td>\n",
       "      <td>29949</td>\n",
       "    </tr>\n",
       "    <tr>\n",
       "      <td>5</td>\n",
       "      <td>5</td>\n",
       "      <td>9.62</td>\n",
       "      <td>10.03</td>\n",
       "      <td>3672746</td>\n",
       "      <td>41616</td>\n",
       "    </tr>\n",
       "  </tbody>\n",
       "</table>\n",
       "</div>"
      ],
      "text/plain": [
       "   ID  Weight  Volume   ThreeD   TwoD\n",
       "1   1   12.92   13.04  5136699  47907\n",
       "2   2   11.40   11.71  4795151  41458\n",
       "3   3   17.42   17.42  6453115  60891\n",
       "4   4    6.79    7.23  2895239  29949\n",
       "5   5    9.62   10.03  3672746  41616"
      ]
     },
     "execution_count": 8,
     "metadata": {},
     "output_type": "execute_result"
    }
   ],
   "source": [
    "df.head()"
   ]
  },
  {
   "cell_type": "code",
   "execution_count": 9,
   "metadata": {
    "scrolled": false
   },
   "outputs": [
    {
     "data": {
      "image/png": "[encoded data removed]",
      "text/plain": [
       "<Figure size 1080x720 with 1 Axes>"
      ]
     },
     "metadata": {
      "needs_background": "light"
     },
     "output_type": "display_data"
    },
    {
     "name": "stdout",
     "output_type": "stream",
     "text": [
      "                            OLS Regression Results                            \n",
      "==============================================================================\n",
      "Dep. Variable:                 Volume   R-squared:                       0.998\n",
      "Model:                            OLS   Adj. R-squared:                  0.998\n",
      "Method:                 Least Squares   F-statistic:                 1.238e+04\n",
      "Date:                Sun, 02 Feb 2020   Prob (F-statistic):           1.34e-38\n",
      "Time:                        17:03:19   Log-Likelihood:                 16.756\n",
      "No. Observations:                  30   AIC:                            -29.51\n",
      "Df Residuals:                      28   BIC:                            -26.71\n",
      "Df Model:                           1                                         \n",
      "Covariance Type:            nonrobust                                         \n",
      "==============================================================================\n",
      "                 coef    std err          t      P>|t|      [0.025      0.975]\n",
      "------------------------------------------------------------------------------\n",
      "x1             0.9553      0.009    111.245      0.000       0.938       0.973\n",
      "const          0.7141      0.098      7.253      0.000       0.512       0.916\n",
      "==============================================================================\n",
      "Omnibus:                       27.488   Durbin-Watson:                   1.441\n",
      "Prob(Omnibus):                  0.000   Jarque-Bera (JB):               52.758\n",
      "Skew:                          -2.064   Prob(JB):                     3.50e-12\n",
      "Kurtosis:                       8.016   Cond. No.                         43.5\n",
      "==============================================================================\n",
      "\n",
      "Warnings:\n",
      "[1] Standard Errors assume that the covariance matrix of the errors is correctly specified.\n"
     ]
    }
   ],
   "source": [
    "#ploting raw data\n",
    "df = pd.read_csv(\"data/oyster_size/Oysters.csv\",index_col=0)\n",
    "fig = plt.figure(figsize=(15,10))\n",
    "x = df['Weight']\n",
    "y = df[\"Volume\"]\n",
    "plt.plot(x,y,marker='o',linestyle=' ',color='b',label='Oyster')\n",
    "\n",
    "\n",
    "# training model\n",
    "mod_ols = sm.OLS(y,np.array([x,np.ones(len(x))]).T)\n",
    "res_ols = mod_ols.fit()\n",
    "res_ols.summary()\n",
    "# plot the fit\n",
    "x_line = np.arange(min(x)-1,max(x)+1) \n",
    "plt.plot(x_line,res_ols.params[0]*x_line+res_ols.params[1],color ='r', label= 'fit')\n",
    "\n",
    "# labels\n",
    "plt.title('Oysters Data',fontsize=30)\n",
    "plt.ylabel('Weight (in grams)',fontsize=30)\n",
    "plt.xlabel('Volume (in cubic centimeters)',fontsize=30)\n",
    "plt.yticks(fontsize=20)\n",
    "plt.xticks(fontsize=20)\n",
    "plt.legend(fontsize=20)\n",
    "plt.show()\n",
    "\n",
    "# printing the model results\n",
    "print(res_ols.summary())"
   ]
  },
  {
   "cell_type": "markdown",
   "metadata": {},
   "source": [
    "## Business Importance"
   ]
  },
  {
   "cell_type": "markdown",
   "metadata": {},
   "source": [
    "- Statistics Models\n",
    "    - Can predict \n",
    "    - Can use information that can be profitable or can reduce cost, or none\n",
    "- Know How Of New Tools\n",
    "    - Can give power to solve new problems\n",
    "    - Can give you agility to solve problems that you already have\n",
    "    - It change the way of think about the problems\n",
    "- Importance to know the tools and models limitations\n",
    "    - Do not make false conclusions about data\n",
    "    - It is important to know if the tool or model can provide a feasible or reasonable solution\n",
    "    - It Provides you to make less misstakes when asserting informations about the data"
   ]
  },
  {
   "cell_type": "markdown",
   "metadata": {},
   "source": [
    "## Conclusions"
   ]
  },
  {
   "cell_type": "markdown",
   "metadata": {},
   "source": [
    "- Model\n",
    "    - The model OSL or WSL(first order) can provide a first guess or first aproach to new problems that you do not have a clue how to start with\n",
    "- Tecnology tools\n",
    "    - both Excel and Python have wonderfull features to deal with, but I recomend to clean the data and standarize than as soon as possible, so ou can deal the data with tools you can scale\n",
    "- Further aplication in Machine Learning\n",
    "    - the OSL and WSL are machine learning models, and to validate some models their are used as a parameter to compair the results of other ML models as random Forest or Genetics algoritms"
   ]
  }
 ],
 "metadata": {
  "kernelspec": {
   "display_name": "Python 3",
   "language": "python",
   "name": "python3"
  },
  "language_info": {
   "codemirror_mode": {
    "name": "ipython",
    "version": 3
   },
   "file_extension": ".py",
   "mimetype": "text/x-python",
   "name": "python",
   "nbconvert_exporter": "python",
   "pygments_lexer": "ipython3",
   "version": "3.7.4"
  }
 },
 "nbformat": 4,
 "nbformat_minor": 2
}
