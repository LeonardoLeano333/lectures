{
 "cells": [
  {
   "cell_type": "markdown",
   "metadata": {},
   "source": [
    "# Variáveis Basicas em python"
   ]
  },
  {
   "cell_type": "markdown",
   "metadata": {},
   "source": [
    "## Variável"
   ]
  },
  {
   "cell_type": "markdown",
   "metadata": {},
   "source": [
    "Definição: O termo variável significa que o determinado valor atribuído dentro contexto pode ser mutável ao longo da execução do programa. "
   ]
  },
  {
   "cell_type": "markdown",
   "metadata": {},
   "source": [
    "### Inteiro (**int**):"
   ]
  },
  {
   "cell_type": "markdown",
   "metadata": {},
   "source": [
    "Definicão: inteiros são os numeros enumeráveis, exemplos: -10,-9,-8,-7,-6,-5,-4,-3,-2,-1,0,1,2,3,4,5,6,7,8,9,10 ."
   ]
  },
  {
   "cell_type": "markdown",
   "metadata": {},
   "source": [
    "Declaração de variáveis do tipo inteiro(**int**) é atribuir um valor inteiro para a variavel em questao, por exemplo a variavel \"**numero_inteiro**\". \n",
    "\n",
    "Exemplos praticos: "
   ]
  },
  {
   "cell_type": "code",
   "execution_count": 2,
   "metadata": {},
   "outputs": [],
   "source": [
    "numero_inteiro = 1\n",
    "numero_um = 1\n",
    "numero_dois = 2\n",
    "numero_dois_negativo = -2\n",
    "numero_quatro = 4\n",
    "numero_cinco = 5"
   ]
  },
  {
   "cell_type": "markdown",
   "metadata": {},
   "source": [
    "No exemplo a cima foram declaradas a variável \"**numero_inteiro**\" com o valor atribuído de 1, a variável \"**numero_um**\" com o valor atribuido de 1, a variável \"**numero_dois**\" com o valor atribuido de 2, a variável \"**numero_dois**\" com o valor atribuido de -2, e assim por diante."
   ]
  },
  {
   "cell_type": "markdown",
   "metadata": {},
   "source": [
    "### Numero real (float):"
   ]
  },
  {
   "cell_type": "markdown",
   "metadata": {},
   "source": [
    "Definição:  o **float** é basicamente um número real.<br>\n",
    "exemplos: 1.2, 1123.0, -123.0, 0.12023"
   ]
  },
  {
   "cell_type": "markdown",
   "metadata": {},
   "source": [
    "A declaração dos numeros reais se dá somente adicionando um **.** ao numero que se está atribuindo dando a ideia de numero fracional. "
   ]
  },
  {
   "cell_type": "markdown",
   "metadata": {},
   "source": [
    "Exemplos de declaracao de variáveis **float**: "
   ]
  },
  {
   "cell_type": "code",
   "execution_count": 16,
   "metadata": {},
   "outputs": [],
   "source": [
    "numero_real = 1.\n",
    "numero_real_a = 2.2\n",
    "numero_real_b = 0.1"
   ]
  },
  {
   "cell_type": "markdown",
   "metadata": {},
   "source": [
    "No exemplo acima foram declaradas a variável \"**numero_real**\" sendo atribuido o valor de 1.0, a variável \"**numero_real_a**\" com o valor atribuido de 2.2, e a variável \"**numero_real_b**\" com o valor atribuido de 0.1 ."
   ]
  },
  {
   "cell_type": "markdown",
   "metadata": {},
   "source": [
    "### Texto/Palavra (string):"
   ]
  },
  {
   "cell_type": "markdown",
   "metadata": {},
   "source": [
    "Definição: String(**str**) é toda a variável que guarda em seu conteúdo um texto, ou palavra ou caracter.\n",
    "obs.: caracter, mesmo que esse caracter seja nulo"
   ]
  },
  {
   "cell_type": "markdown",
   "metadata": {},
   "source": [
    "Exemplos de declaração de variáveis:"
   ]
  },
  {
   "cell_type": "code",
   "execution_count": 17,
   "metadata": {},
   "outputs": [],
   "source": [
    "caractere = \"c\"\n",
    "palavra = \"python\"\n",
    "string_vazio = \"\""
   ]
  },
  {
   "cell_type": "markdown",
   "metadata": {},
   "source": [
    "No exemplo acima foram declaradas a variável \"**caractere**\" sendo atribuido o valor do string **'c'**, a variável \"**palavra**\" com o valor atribuido de **'python'**, e a variável \"**string_vazio**\" com o valor atribuido de **''** ."
   ]
  },
  {
   "cell_type": "markdown",
   "metadata": {},
   "source": [
    "### Booleano (bool):"
   ]
  },
  {
   "cell_type": "markdown",
   "metadata": {},
   "source": [
    "Definição: booleanos são variáveis que só possuem duas possibilidades Verdadeiro(**True**) e Falso(**False**). São muito uteis no momento de enunciar extruturas condicionais.\n",
    "<br> exemplos:"
   ]
  },
  {
   "cell_type": "code",
   "execution_count": 35,
   "metadata": {},
   "outputs": [],
   "source": [
    "verdadeiro = True\n",
    "falso = False"
   ]
  },
  {
   "cell_type": "markdown",
   "metadata": {},
   "source": [
    "No exemplo acima foram declaradas a variável \"**verdadeiro**\" com o valor booleano(**bool**) verdadeiro de \"**True**\", e a variável \"**falso**\" com o valor booleano(**bool**) falso de \"**False**\".\n",
    "<br>obs.: atente-se a letra maiuscula no início das palvras \"**True**\" e \"**False**\", esses são nomes reservados do python e escrever de forma diferente o python vai entender como uma nova variavel e não um booleano."
   ]
  },
  {
   "cell_type": "markdown",
   "metadata": {},
   "source": [
    "# Trabalhando com o conseito de variavel"
   ]
  },
  {
   "cell_type": "markdown",
   "metadata": {},
   "source": [
    "Voltandoa definicão do que é \"varialvel\".<br>\n",
    "Definição: O termo variável significa que o determinado valor atribuído dentro contexto pode ser mutável ao longo da execução do programa. \n",
    "Dentro de um determinado contexto eu posso fazer varias atribuições a uma mesma viriável alterando seu valor dinamicamente.<br>\n",
    "exemplos:"
   ]
  },
  {
   "cell_type": "markdown",
   "metadata": {},
   "source": [
    "- **Sobrescrevendo valores da variável, exemplo 1**:"
   ]
  },
  {
   "cell_type": "code",
   "execution_count": 18,
   "metadata": {},
   "outputs": [],
   "source": [
    "variavel = 1\n",
    "variavel = 2.2\n",
    "variavel = \"palavra\""
   ]
  },
  {
   "cell_type": "markdown",
   "metadata": {},
   "source": [
    "No exemplo acima, foi atribuido um inteiro (**int**) a variável \"**variavel**\" com o valor de 1, em seguida a variável \"**variavel**\" foi sobre escrita recebendo um novo valor do real (**float**) com o valor de **2.2**, e logo em seguida a variável  \"**variavel**\"\"foi sobre escrita novamente recebendo um novo valor string (**str**). Veja que em cada passo a variavel foi alterando o seu valor seguindo na mesma execução."
   ]
  },
  {
   "cell_type": "markdown",
   "metadata": {},
   "source": [
    "- **Atribuido valores de variáveis a partir de variáveis, exemplo 2**:"
   ]
  },
  {
   "cell_type": "code",
   "execution_count": 19,
   "metadata": {},
   "outputs": [],
   "source": [
    "variavel_a = 1\n",
    "variavel_b = 2\n",
    "variavel_c = variavel_a\n",
    "variavel_a = variavel_b\n",
    "variavel_b = variavel_c"
   ]
  },
  {
   "cell_type": "markdown",
   "metadata": {},
   "source": [
    "No exemplo acima, \n",
    "- foi declarada a variavel \"<strong>variavel_a</strong>\" com inteiro(<strong>int</strong>) 1;\n",
    "- em seguida foi declarada a variável \"<strong>variavel_b</strong>\" com o inteiro(<strong>int</strong>) 2;\n",
    "- em seguida foi declarada a variável \"<strong>variavel_c</strong>\" com o valor da variável \"<strong>variavel_a</strong>\" que apresenta-se com o valor do inteiro(<strong>int</strong>) 1;\n",
    "- em seguida foi reatribuido o valor da variável \"<strong>variavel_a</strong>\" com o valor da variável \"<strong>variavel_b</strong>\" que possuia o valor inteiro(<strong>int</strong>) 2;\n",
    "- em seguida foi atribuido para a variável \"<strong>variavel_b</strong>\" o valor da variável \"<strong>variavel_c</strong>\". "
   ]
  },
  {
   "cell_type": "markdown",
   "metadata": {},
   "source": [
    "O código do **exemplo 2** faz com que os valores das variaveis \"**varivel_a**\" e variável \"**variavel_b**\" troquem seus respectivos valores."
   ]
  },
  {
   "cell_type": "markdown",
   "metadata": {},
   "source": [
    "# Verificando o conteúdo das variáveis"
   ]
  },
  {
   "cell_type": "markdown",
   "metadata": {},
   "source": [
    "No meio das execuções do programa é interessante verificar a atribuição dos valores que estão sendo atribuidos as variáveis durante a execução, e até para retornar para o cliente final informações que sejam relevantes para eles. "
   ]
  },
  {
   "cell_type": "markdown",
   "metadata": {},
   "source": [
    "- Impressao, **print**:"
   ]
  },
  {
   "cell_type": "markdown",
   "metadata": {},
   "source": [
    "print imprime no terminal as informações que são passada para essa função,<br> exemplos:"
   ]
  },
  {
   "cell_type": "code",
   "execution_count": 20,
   "metadata": {},
   "outputs": [
    {
     "name": "stdout",
     "output_type": "stream",
     "text": [
      "Hello world!\n"
     ]
    }
   ],
   "source": [
    "print(\"Hello world!\")"
   ]
  },
  {
   "cell_type": "code",
   "execution_count": 21,
   "metadata": {},
   "outputs": [
    {
     "name": "stdout",
     "output_type": "stream",
     "text": [
      "informacao para o usuario\n"
     ]
    }
   ],
   "source": [
    "variavel = 'informacao para o usuario'\n",
    "print(variavel)"
   ]
  },
  {
   "cell_type": "markdown",
   "metadata": {},
   "source": [
    "- Vericicação de tipo, **type**:"
   ]
  },
  {
   "cell_type": "markdown",
   "metadata": {},
   "source": [
    "**type** retorna o tipo da classe ao qual a variável pertence,<br>exemplos: "
   ]
  },
  {
   "cell_type": "code",
   "execution_count": 23,
   "metadata": {},
   "outputs": [
    {
     "data": {
      "text/plain": [
       "int"
      ]
     },
     "execution_count": 23,
     "metadata": {},
     "output_type": "execute_result"
    }
   ],
   "source": [
    "variavel = 1\n",
    "type(variavel)"
   ]
  },
  {
   "cell_type": "code",
   "execution_count": 24,
   "metadata": {},
   "outputs": [
    {
     "data": {
      "text/plain": [
       "float"
      ]
     },
     "execution_count": 24,
     "metadata": {},
     "output_type": "execute_result"
    }
   ],
   "source": [
    "variavel = 2.2\n",
    "type(variavel)"
   ]
  },
  {
   "cell_type": "code",
   "execution_count": 25,
   "metadata": {},
   "outputs": [
    {
     "data": {
      "text/plain": [
       "str"
      ]
     },
     "execution_count": 25,
     "metadata": {},
     "output_type": "execute_result"
    }
   ],
   "source": [
    "variavel = \"palavra\"\n",
    "type(variavel)"
   ]
  },
  {
   "cell_type": "markdown",
   "metadata": {},
   "source": [
    "- Representação, **repr**:\n",
    "<br>**repr** retorna a representação em string(str) do valor atribuido a variavel,\n",
    "<br>exemplo:"
   ]
  },
  {
   "cell_type": "code",
   "execution_count": 33,
   "metadata": {},
   "outputs": [
    {
     "data": {
      "text/plain": [
       "'1'"
      ]
     },
     "execution_count": 33,
     "metadata": {},
     "output_type": "execute_result"
    }
   ],
   "source": [
    "variavel = 1\n",
    "repr(variavel)"
   ]
  },
  {
   "cell_type": "code",
   "execution_count": 31,
   "metadata": {},
   "outputs": [
    {
     "data": {
      "text/plain": [
       "'2.2'"
      ]
     },
     "execution_count": 31,
     "metadata": {},
     "output_type": "execute_result"
    }
   ],
   "source": [
    "variavel = 2.2\n",
    "repr(variavel)"
   ]
  },
  {
   "cell_type": "code",
   "execution_count": 32,
   "metadata": {},
   "outputs": [
    {
     "data": {
      "text/plain": [
       "\"'palavra'\""
      ]
     },
     "execution_count": 32,
     "metadata": {},
     "output_type": "execute_result"
    }
   ],
   "source": [
    "variavel = \"palavra\"\n",
    "repr(variavel)"
   ]
  },
  {
   "cell_type": "markdown",
   "metadata": {},
   "source": [
    "## Conversões de tipos"
   ]
  },
  {
   "cell_type": "markdown",
   "metadata": {},
   "source": [
    "Durante a execução pode ser interessante trabalhar com tipos distintos de dados, o python disponibiliza uma gama de conversores, os básicos são **int**, **float**, **str**, **bool**.\n",
    "<br> exemplos:"
   ]
  },
  {
   "cell_type": "code",
   "execution_count": 36,
   "metadata": {},
   "outputs": [
    {
     "data": {
      "text/plain": [
       "False"
      ]
     },
     "execution_count": 36,
     "metadata": {},
     "output_type": "execute_result"
    }
   ],
   "source": [
    "int()\n",
    "float()\n",
    "str()\n",
    "bool()"
   ]
  },
  {
   "cell_type": "markdown",
   "metadata": {},
   "source": [
    "- possiveis falhas de converão"
   ]
  },
  {
   "cell_type": "code",
   "execution_count": null,
   "metadata": {},
   "outputs": [],
   "source": []
  },
  {
   "cell_type": "markdown",
   "metadata": {},
   "source": [
    "## Padrão de nomenclatura para declaração de variáveis"
   ]
  },
  {
   "cell_type": "markdown",
   "metadata": {},
   "source": [
    "REESCREVER: Existe uma conveção de nomenclaturas na definição de variaveis com separacao com \"_\"."
   ]
  },
  {
   "cell_type": "code",
   "execution_count": null,
   "metadata": {},
   "outputs": [],
   "source": []
  },
  {
   "cell_type": "markdown",
   "metadata": {},
   "source": [
    "# Referencias"
   ]
  },
  {
   "cell_type": "markdown",
   "metadata": {},
   "source": [
    "funcoes builtins do python:\n",
    "\n",
    "https://docs.python.org/3/library/functions.html"
   ]
  },
  {
   "cell_type": "code",
   "execution_count": null,
   "metadata": {},
   "outputs": [],
   "source": []
  }
 ],
 "metadata": {
  "kernelspec": {
   "display_name": "Python 3",
   "language": "python",
   "name": "python3"
  },
  "language_info": {
   "codemirror_mode": {
    "name": "ipython",
    "version": 3
   },
   "file_extension": ".py",
   "mimetype": "text/x-python",
   "name": "python",
   "nbconvert_exporter": "python",
   "pygments_lexer": "ipython3",
   "version": "3.7.4"
  }
 },
 "nbformat": 4,
 "nbformat_minor": 4
}
