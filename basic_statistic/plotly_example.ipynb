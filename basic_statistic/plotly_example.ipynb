{
 "cells": [
  {
   "cell_type": "markdown",
   "metadata": {},
   "source": [
    "# my example"
   ]
  },
  {
   "cell_type": "code",
   "execution_count": 1,
   "metadata": {},
   "outputs": [],
   "source": [
    "import datetime\n",
    "import numpy as np\n",
    "import pandas as pd\n",
    "\n",
    "import plotly.graph_objects as go\n",
    "import plotly.express as px\n",
    "from ipywidgets import widgets"
   ]
  },
  {
   "cell_type": "code",
   "execution_count": 4,
   "metadata": {
    "scrolled": false
   },
   "outputs": [
    {
     "data": {
      "application/vnd.jupyter.widget-view+json": {
       "model_id": "3c9471b1b35e4c7bac4999d198fb5b9c",
       "version_major": 2,
       "version_minor": 0
      },
      "text/plain": [
       "HBox(children=(VBox(children=(IntSlider(value=1, description='N$_r$ value', max=4000, min=1), FigureWidget({\n",
       " …"
      ]
     },
     "metadata": {},
     "output_type": "display_data"
    }
   ],
   "source": [
    "#grafic definition\n",
    "\n",
    "def logistic_map(r,x=0.1):\n",
    "    for i in range(1000):\n",
    "        x = r*x*(1-x)\n",
    "    return x\n",
    "\n",
    "fig = go.FigureWidget()\n",
    "fig.update_xaxes(range=[1.0, 5.0])\n",
    "fig.layout.xaxis.title = '$r_{values}$'\n",
    "fig.layout.yaxis.title = '$x_{final}$'\n",
    "#for val in [0.1,0.5]:\n",
    "xx_base = np.arange(2000,4001)*0.001\n",
    "yy_base = logistic_map(xx_base,x=val)\n",
    "fig.add_trace(go.Scatter(x=xx_base[:1], y=yy_base[:1],\n",
    "                         mode='markers'))\n",
    "\n",
    "xx_base = np.arange(2000,4001)*0.001\n",
    "yy_base = logistic_map(xx_base,x=0.2)\n",
    "#simple_graphic.add_trace(px.scatter(x=xx_base, y=yy_base))\n",
    "\n",
    "#slider button definition\n",
    "value_slider = widgets.IntSlider(\n",
    "    value = 1.0,\n",
    "    min=1.0,\n",
    "    max=4000.0,\n",
    "    step=1,\n",
    "    description='N$_r$ value',\n",
    "    continuous_update=True\n",
    ")\n",
    "\n",
    "# response for slider button\n",
    "def response(change):\n",
    "    dot_points = value_slider.value\n",
    "    with fig.batch_update():\n",
    "        fig.data[0].x = xx_base[:dot_points]\n",
    "        fig.data[0].y = yy_base[:dot_points]\n",
    "# simple_graphic_a.data[1].x = xx_base_b[:dot_points]\n",
    "        fig.update()\n",
    "\n",
    "# add the response action\n",
    "value_slider.observe(response, names=\"value\")\n",
    "\n",
    "# put the things in container\n",
    "container = widgets.VBox(children=[value_slider,fig])\n",
    "\n",
    "#show the widgets\n",
    "widgets.HBox([container])"
   ]
  },
  {
   "cell_type": "code",
   "execution_count": null,
   "metadata": {},
   "outputs": [],
   "source": [
    "go."
   ]
  },
  {
   "cell_type": "code",
   "execution_count": null,
   "metadata": {},
   "outputs": [],
   "source": []
  },
  {
   "cell_type": "code",
   "execution_count": null,
   "metadata": {},
   "outputs": [],
   "source": []
  },
  {
   "cell_type": "code",
   "execution_count": null,
   "metadata": {},
   "outputs": [],
   "source": []
  },
  {
   "cell_type": "code",
   "execution_count": null,
   "metadata": {},
   "outputs": [],
   "source": []
  },
  {
   "cell_type": "code",
   "execution_count": null,
   "metadata": {},
   "outputs": [],
   "source": []
  }
 ],
 "metadata": {
  "kernelspec": {
   "display_name": "Python 3",
   "language": "python",
   "name": "python3"
  },
  "language_info": {
   "codemirror_mode": {
    "name": "ipython",
    "version": 3
   },
   "file_extension": ".py",
   "mimetype": "text/x-python",
   "name": "python",
   "nbconvert_exporter": "python",
   "pygments_lexer": "ipython3",
   "version": "3.7.5"
  }
 },
 "nbformat": 4,
 "nbformat_minor": 4
}
