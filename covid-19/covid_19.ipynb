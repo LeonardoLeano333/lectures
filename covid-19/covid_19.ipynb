{
 "cells": [
  {
   "cell_type": "markdown",
   "metadata": {},
   "source": [
    "# Covid-19"
   ]
  },
  {
   "cell_type": "markdown",
   "metadata": {},
   "source": [
    "Ajuste exponencial com dados do G1.\n",
    "fonte dos dados link: https://g1.globo.com/bemestar/coronavirus/noticia/2020/03/20/brasil-tem-904-casos-confirmados-de-novo-coronavirus-diz-ministerio.ghtml\n"
   ]
  },
  {
   "cell_type": "code",
   "execution_count": 1,
   "metadata": {},
   "outputs": [],
   "source": [
    "import numpy as np\n",
    "import matplotlib.pyplot as plt\n",
    "%matplotlib inline\n",
    "import scipy as sp\n",
    "from scipy.optimize import least_squares"
   ]
  },
  {
   "cell_type": "markdown",
   "metadata": {},
   "source": [
    "## Modelo da taxa de infecção:"
   ]
  },
  {
   "cell_type": "markdown",
   "metadata": {},
   "source": [
    "\\begin{align}\n",
    "\\frac{dx}{dt} = a*x\n",
    "\\end{align}"
   ]
  },
  {
   "cell_type": "markdown",
   "metadata": {},
   "source": [
    "\\begin{align}\n",
    " x = C*e^{at}\n",
    "\\end{align}"
   ]
  },
  {
   "cell_type": "markdown",
   "metadata": {},
   "source": [
    "x é o numero de infecções"
   ]
  },
  {
   "cell_type": "code",
   "execution_count": 2,
   "metadata": {},
   "outputs": [],
   "source": [
    "def modelo_exponencial_sol(par,t):\n",
    "    x = par[1]*np.exp(par[0]*t)\n",
    "    return x\n",
    "\n",
    "def func_sol(par,t,y):\n",
    "    \"\"\"function to minimize\"\"\"\n",
    "    x = modelo_exponencial_sol(par,t)\n",
    "    return (x-y)**2\n",
    "days = np.arange(1,6)\n",
    "cases = np.array([234,291,428,621,904])\n",
    "x0 = np.array([1., 150.])\n",
    "t_train = days\n",
    "y_train = cases\n",
    "#res_robust = least_squares(caos_sol_minimize, x0, loss='soft_l1', f_scale=0.1, args=(t_train, y_train))\n",
    "res_robust  = least_squares(func_sol, x0, args=(t_train, y_train))"
   ]
  },
  {
   "cell_type": "markdown",
   "metadata": {},
   "source": [
    "### Avaliação visual do modelo"
   ]
  },
  {
   "cell_type": "code",
   "execution_count": 3,
   "metadata": {
    "scrolled": true
   },
   "outputs": [
    {
     "data": {
      "text/plain": [
       "Text(0.5, 0, 'dias apartir do primeiro caso')"
      ]
     },
     "execution_count": 3,
     "metadata": {},
     "output_type": "execute_result"
    },
    {
     "data": {
      "image/png": "[encoded data removed]",
      "text/plain": [
       "<Figure size 432x288 with 1 Axes>"
      ]
     },
     "metadata": {
      "needs_background": "light"
     },
     "output_type": "display_data"
    }
   ],
   "source": [
    "par = res_robust.x\n",
    "plt.plot(days, cases)\n",
    "days_forecast = np.arange(1,6)\n",
    "plt.plot(days_forecast,modelo_exponencial_sol(par,days_forecast))\n",
    "plt.ylabel(\"numero de infectados\")\n",
    "plt.xlabel(\"dias apartir do primeiro caso\")"
   ]
  },
  {
   "cell_type": "code",
   "execution_count": 20,
   "metadata": {},
   "outputs": [
    {
     "name": "stdout",
     "output_type": "stream",
     "text": [
      "parametro a\n",
      "0.3559129859246293\n",
      "parametro C\n",
      "150.93623962514687\n"
     ]
    }
   ],
   "source": [
    "print(\"parametro a\")\n",
    "print(res_robust.x[0])\n",
    "print(\"parametro C\")\n",
    "print(res_robust.x[1])"
   ]
  },
  {
   "cell_type": "markdown",
   "metadata": {},
   "source": [
    "## Forecast de 10 dias"
   ]
  },
  {
   "cell_type": "code",
   "execution_count": 22,
   "metadata": {
    "scrolled": true
   },
   "outputs": [
    {
     "data": {
      "text/plain": [
       "Text(0.5, 0, 'dias apartir do primeiro caso')"
      ]
     },
     "execution_count": 22,
     "metadata": {},
     "output_type": "execute_result"
    },
    {
     "data": {
      "image/png": "[encoded data removed]",
      "text/plain": [
       "<Figure size 432x288 with 1 Axes>"
      ]
     },
     "metadata": {
      "needs_background": "light"
     },
     "output_type": "display_data"
    }
   ],
   "source": [
    "par = res_robust.x\n",
    "plt.plot(days, cases)\n",
    "days_forecast = np.arange(1,6+30)\n",
    "plt.plot(days_forecast,modelo_exponencial_sol(par,days_forecast))\n",
    "plt.ylabel(\"numero de infectados\")\n",
    "plt.xlabel(\"dias apartir do primeiro caso\")"
   ]
  },
  {
   "cell_type": "markdown",
   "metadata": {},
   "source": [
    "### Modelo de infecção levando em conta cura mas nao mortes"
   ]
  },
  {
   "cell_type": "markdown",
   "metadata": {},
   "source": [
    "\\begin{align}\n",
    "\\frac{dx}{dt} = a*x*(x-b)\n",
    "\\end{align}"
   ]
  },
  {
   "cell_type": "markdown",
   "metadata": {},
   "source": [
    "\\begin{align}\n",
    "x = \\frac{A}{B-e^{at}}\n",
    "\\end{align}"
   ]
  },
  {
   "cell_type": "markdown",
   "metadata": {},
   "source": [
    "x é o numero de infecções"
   ]
  },
  {
   "cell_type": "code",
   "execution_count": 26,
   "metadata": {},
   "outputs": [],
   "source": [
    "def modelo_infect_cure_sol(par,t):\n",
    "    x = par[1]/(np.exp(par[0]*t)+par[2])\n",
    "    return x\n",
    "\n",
    "def modelo_infect_cure_sol_minimize(par,t,y):\n",
    "    \"\"\"function to minimize\"\"\"\n",
    "    x = par[1]/(np.exp(par[0]*t)+par[2])\n",
    "    return (x-y)**2\n",
    "days = np.arange(1,6)\n",
    "cases = np.array([234,291,428,621,904])\n",
    "x0 = np.array([1., 150.])\n",
    "t_train = days\n",
    "y_train = cases\n",
    "#res_robust = least_squares(caos_sol_minimize, x0, loss='soft_l1', f_scale=0.1, args=(t_train, y_train))\n",
    "res_robust  = least_squares(caos_sol_minimize, x0, args=(t_train, y_train))"
   ]
  },
  {
   "cell_type": "code",
   "execution_count": 27,
   "metadata": {},
   "outputs": [
    {
     "data": {
      "text/plain": [
       "Text(0.5, 0, 'dias apartir do primeiro caso')"
      ]
     },
     "execution_count": 27,
     "metadata": {},
     "output_type": "execute_result"
    },
    {
     "data": {
      "image/png": "[encoded data removed]",
      "text/plain": [
       "<Figure size 432x288 with 1 Axes>"
      ]
     },
     "metadata": {
      "needs_background": "light"
     },
     "output_type": "display_data"
    }
   ],
   "source": [
    "par = res_robust.x\n",
    "plt.plot(days, cases)\n",
    "days_forecast = np.arange(1,6)\n",
    "plt.plot(days_forecast,modelo_exponencial_sol(par,days_forecast))\n",
    "plt.ylabel(\"numero de infectados\")\n",
    "plt.xlabel(\"dias apartir do primeiro caso\")"
   ]
  },
  {
   "cell_type": "code",
   "execution_count": 28,
   "metadata": {},
   "outputs": [
    {
     "name": "stdout",
     "output_type": "stream",
     "text": [
      "parametro a\n",
      "[  0.35591299 150.93623963]\n",
      "parametro C\n",
      "150.93623962514687\n"
     ]
    }
   ],
   "source": [
    "print(\"parametro a\")\n",
    "print(res_robust.x)\n",
    "print(\"parametro C\")\n",
    "print(res_robust.x[1])"
   ]
  },
  {
   "cell_type": "markdown",
   "metadata": {},
   "source": [
    "fonte dos dados\n",
    "link:\n",
    "https://g1.globo.com/bemestar/coronavirus/noticia/2020/03/20/brasil-tem-904-casos-confirmados-de-novo-coronavirus-diz-ministerio.ghtml"
   ]
  },
  {
   "cell_type": "code",
   "execution_count": null,
   "metadata": {},
   "outputs": [],
   "source": []
  },
  {
   "cell_type": "code",
   "execution_count": null,
   "metadata": {},
   "outputs": [],
   "source": []
  }
 ],
 "metadata": {
  "kernelspec": {
   "display_name": "Python 3",
   "language": "python",
   "name": "python3"
  },
  "language_info": {
   "codemirror_mode": {
    "name": "ipython",
    "version": 3
   },
   "file_extension": ".py",
   "mimetype": "text/x-python",
   "name": "python",
   "nbconvert_exporter": "python",
   "pygments_lexer": "ipython3",
   "version": "3.7.4"
  }
 },
 "nbformat": 4,
 "nbformat_minor": 4
}
